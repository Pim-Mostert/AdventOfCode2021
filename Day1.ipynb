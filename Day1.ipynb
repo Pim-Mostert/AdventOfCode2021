{
 "cells": [
  {
   "cell_type": "code",
   "execution_count": 2,
   "id": "eec29bf2-8046-4bb3-a6f5-0198c3b54118",
   "metadata": {},
   "outputs": [],
   "source": [
    "import sys\n",
    "sys.path.append('Day1')\n",
    "sys.path.append('Common')\n",
    "from Increments import *\n",
    "from Data import *"
   ]
  },
  {
   "cell_type": "markdown",
   "id": "85e7370c-e39a-4fa9-80ed-1c868cc5ee5d",
   "metadata": {},
   "source": [
    "# Part 1"
   ]
  },
  {
   "cell_type": "code",
   "execution_count": 3,
   "id": "acdc0d9a-f67c-486b-991e-c311e8f21ba4",
   "metadata": {},
   "outputs": [
    {
     "data": {
      "text/plain": [
       "7"
      ]
     },
     "execution_count": 3,
     "metadata": {},
     "output_type": "execute_result"
    }
   ],
   "source": [
    "TestData = [199,\n",
    "200,\n",
    "208,\n",
    "210,\n",
    "200,\n",
    "207,\n",
    "240,\n",
    "269,\n",
    "260,\n",
    "263]\n",
    "\n",
    "NumberOfIncrements(TestData)"
   ]
  },
  {
   "cell_type": "code",
   "execution_count": 4,
   "id": "02c87247-4f53-4bbb-ac28-2d2f92cd0f32",
   "metadata": {},
   "outputs": [],
   "source": [
    "RealData = ReadData(\"Day1/Data.txt\")"
   ]
  },
  {
   "cell_type": "code",
   "execution_count": 5,
   "id": "80fa1f79-460f-42d1-a61a-508b7593b2fc",
   "metadata": {},
   "outputs": [
    {
     "data": {
      "text/plain": [
       "1715"
      ]
     },
     "execution_count": 5,
     "metadata": {},
     "output_type": "execute_result"
    }
   ],
   "source": [
    "NumberOfIncrements(RealData)"
   ]
  },
  {
   "cell_type": "markdown",
   "id": "40e7b9f2-b1f1-45f7-9a4b-b79f835b5118",
   "metadata": {},
   "source": [
    "# Part 2"
   ]
  },
  {
   "cell_type": "code",
   "execution_count": 6,
   "id": "e74ca098-9962-4057-8fae-5d82dc58be0b",
   "metadata": {},
   "outputs": [
    {
     "data": {
      "text/plain": [
       "5"
      ]
     },
     "execution_count": 6,
     "metadata": {},
     "output_type": "execute_result"
    }
   ],
   "source": [
    "NumberOfSmoothedIncrements(TestData)"
   ]
  },
  {
   "cell_type": "code",
   "execution_count": 7,
   "id": "e84e26dd-d2f0-4a30-b5a4-b664dd4dc269",
   "metadata": {},
   "outputs": [
    {
     "data": {
      "text/plain": [
       "1739"
      ]
     },
     "execution_count": 7,
     "metadata": {},
     "output_type": "execute_result"
    }
   ],
   "source": [
    "NumberOfSmoothedIncrements(RealData)"
   ]
  },
  {
   "cell_type": "code",
   "execution_count": null,
   "id": "5bbe9314-2ed9-4ee1-a06f-e44cd73acd06",
   "metadata": {},
   "outputs": [],
   "source": []
  }
 ],
 "metadata": {
  "kernelspec": {
   "display_name": "Python 3 (ipykernel)",
   "language": "python",
   "name": "python3"
  },
  "language_info": {
   "codemirror_mode": {
    "name": "ipython",
    "version": 3
   },
   "file_extension": ".py",
   "mimetype": "text/x-python",
   "name": "python",
   "nbconvert_exporter": "python",
   "pygments_lexer": "ipython3",
   "version": "3.8.12"
  }
 },
 "nbformat": 4,
 "nbformat_minor": 5
}
